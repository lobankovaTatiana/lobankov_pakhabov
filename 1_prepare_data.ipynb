{
 "cells": [
  {
   "cell_type": "code",
   "execution_count": 47,
   "metadata": {
    "collapsed": true
   },
   "outputs": [],
   "source": [
    "import pandas as pd\n",
    "import string"
   ]
  },
  {
   "cell_type": "markdown",
   "source": [
    "## Читаем текстовые описания из файла, очищаем данные для дальнейшей обработки и сохраняем в файл"
   ],
   "metadata": {
    "collapsed": false,
    "pycharm": {
     "name": "#%% md\n"
    }
   }
  },
  {
   "cell_type": "markdown",
   "source": [
    "Набор данных Flickr30k стал стандартным эталоном для описания изображений на основе предложений.\n",
    "Набор скачан с https://www.kaggle.com/datasets/hsankesara/flickr-image-dataset?resource=download"
   ],
   "metadata": {
    "collapsed": false,
    "pycharm": {
     "name": "#%% md\n"
    }
   }
  },
  {
   "cell_type": "code",
   "execution_count": 48,
   "outputs": [
    {
     "data": {
      "text/plain": "       image_name  comment_number  \\\n0  1000092795.jpg               0   \n1  1000092795.jpg               1   \n2  1000092795.jpg               2   \n3  1000092795.jpg               3   \n4  1000092795.jpg               4   \n5    10002456.jpg               0   \n6    10002456.jpg               1   \n7    10002456.jpg               2   \n8    10002456.jpg               3   \n9    10002456.jpg               4   \n\n                                             comment  \n0   Two young guys with shaggy hair look at their...  \n1   Two young , White males are outside near many...  \n2   Two men in green shirts are standing in a yard .  \n3       A man in a blue shirt standing in a garden .  \n4            Two friends enjoy time spent together .  \n5   Several men in hard hats are operating a gian...  \n6   Workers look down from up above on a piece of...  \n7   Two men working on a machine wearing hard hats .  \n8              Four men on top of a tall structure .  \n9                         Three men on a large rig .  ",
      "text/html": "<div>\n<style scoped>\n    .dataframe tbody tr th:only-of-type {\n        vertical-align: middle;\n    }\n\n    .dataframe tbody tr th {\n        vertical-align: top;\n    }\n\n    .dataframe thead th {\n        text-align: right;\n    }\n</style>\n<table border=\"1\" class=\"dataframe\">\n  <thead>\n    <tr style=\"text-align: right;\">\n      <th></th>\n      <th>image_name</th>\n      <th>comment_number</th>\n      <th>comment</th>\n    </tr>\n  </thead>\n  <tbody>\n    <tr>\n      <th>0</th>\n      <td>1000092795.jpg</td>\n      <td>0</td>\n      <td>Two young guys with shaggy hair look at their...</td>\n    </tr>\n    <tr>\n      <th>1</th>\n      <td>1000092795.jpg</td>\n      <td>1</td>\n      <td>Two young , White males are outside near many...</td>\n    </tr>\n    <tr>\n      <th>2</th>\n      <td>1000092795.jpg</td>\n      <td>2</td>\n      <td>Two men in green shirts are standing in a yard .</td>\n    </tr>\n    <tr>\n      <th>3</th>\n      <td>1000092795.jpg</td>\n      <td>3</td>\n      <td>A man in a blue shirt standing in a garden .</td>\n    </tr>\n    <tr>\n      <th>4</th>\n      <td>1000092795.jpg</td>\n      <td>4</td>\n      <td>Two friends enjoy time spent together .</td>\n    </tr>\n    <tr>\n      <th>5</th>\n      <td>10002456.jpg</td>\n      <td>0</td>\n      <td>Several men in hard hats are operating a gian...</td>\n    </tr>\n    <tr>\n      <th>6</th>\n      <td>10002456.jpg</td>\n      <td>1</td>\n      <td>Workers look down from up above on a piece of...</td>\n    </tr>\n    <tr>\n      <th>7</th>\n      <td>10002456.jpg</td>\n      <td>2</td>\n      <td>Two men working on a machine wearing hard hats .</td>\n    </tr>\n    <tr>\n      <th>8</th>\n      <td>10002456.jpg</td>\n      <td>3</td>\n      <td>Four men on top of a tall structure .</td>\n    </tr>\n    <tr>\n      <th>9</th>\n      <td>10002456.jpg</td>\n      <td>4</td>\n      <td>Three men on a large rig .</td>\n    </tr>\n  </tbody>\n</table>\n</div>"
     },
     "execution_count": 48,
     "metadata": {},
     "output_type": "execute_result"
    }
   ],
   "source": [
    "#Основной файл results.csv он содержит название изображения, индекс описания\n",
    "# и описания для этого изображения. Каждое изображения содержит по 5 описаний.\n",
    "# Между собой поля отделены символом |\n",
    "\n",
    "dataset_path = \"D:/Temp/Dataset/kaggle/flickr_30k\" # основной путь к датасету\n",
    "captions_path = dataset_path + \"/results.csv\" # путь к файлу с описаниями изображений\n",
    "\n",
    "df = pd.read_csv(captions_path, delimiter='|') # прочитаем датасет\n",
    "df.head(10) # выведем первые 10 строк из датасета"
   ],
   "metadata": {
    "collapsed": false,
    "pycharm": {
     "name": "#%%\n"
    }
   }
  },
  {
   "cell_type": "code",
   "execution_count": 49,
   "outputs": [],
   "source": [
    "# Для работы с текстовым описанием изображений необходимо очистить данные от шума\n",
    "# Для того, чтобы уменьшить размер словесного запаса с которым придется работать\n",
    "# - все слова в нижний регистр\n",
    "# - удаляем все знаки препинания\n",
    "# - удаляем все лова длиной один символ или меньше\n",
    "# - удаляем все слова с цифрами в них\n",
    "def clean_text(data):\n",
    "    idx_to_delete = [] # массив в котором будем хранить индексы для битых строк, которые\n",
    "                       # надо удалить\n",
    "    table = str.maketrans('', '', string.punctuation)\n",
    "    for idx in data.index:\n",
    "        if pd.notna(data.iat[idx, 2]): # если существует описание изображения\n",
    "            # разбиваем описание на слова\n",
    "            desc = data.iat[idx, 2].split()\n",
    "            # - все лова в нижний регистр\n",
    "            desc = [word.lower() for word in desc]\n",
    "            # - удаляем все знаки препинания\n",
    "            desc = [word.translate(table) for word in desc]\n",
    "            # - удаляем все слова длиной один символ или меньше\n",
    "            desc = [word for word in desc if (len(word) > 1)]\n",
    "            # - удаляем все слова с цифрами в них\n",
    "            desc = [word for word in desc if (word.isalpha())]\n",
    "            # преобразуем обратно в строку\n",
    "            data.iat[idx, 2] = ' '.join(desc)\n",
    "        else: # если не существует описания изображения, добавляем индекс в массив для удаления\n",
    "            idx_to_delete.append(idx)\n",
    "    return idx_to_delete"
   ],
   "metadata": {
    "collapsed": false,
    "pycharm": {
     "name": "#%%\n"
    }
   }
  },
  {
   "cell_type": "markdown",
   "source": [
    "### Запускаем очистку текста"
   ],
   "metadata": {
    "collapsed": false,
    "pycharm": {
     "name": "#%% md\n"
    }
   }
  },
  {
   "cell_type": "code",
   "execution_count": 50,
   "outputs": [
    {
     "data": {
      "text/plain": "       image_name  comment_number  \\\n0  1000092795.jpg               0   \n1  1000092795.jpg               1   \n2  1000092795.jpg               2   \n3  1000092795.jpg               3   \n4  1000092795.jpg               4   \n5    10002456.jpg               0   \n6    10002456.jpg               1   \n7    10002456.jpg               2   \n8    10002456.jpg               3   \n9    10002456.jpg               4   \n\n                                             comment  \n0  two young guys with shaggy hair look at their ...  \n1  two young white males are outside near many bu...  \n2       two men in green shirts are standing in yard  \n3               man in blue shirt standing in garden  \n4              two friends enjoy time spent together  \n5  several men in hard hats are operating giant p...  \n6  workers look down from up above on piece of eq...  \n7       two men working on machine wearing hard hats  \n8                  four men on top of tall structure  \n9                             three men on large rig  ",
      "text/html": "<div>\n<style scoped>\n    .dataframe tbody tr th:only-of-type {\n        vertical-align: middle;\n    }\n\n    .dataframe tbody tr th {\n        vertical-align: top;\n    }\n\n    .dataframe thead th {\n        text-align: right;\n    }\n</style>\n<table border=\"1\" class=\"dataframe\">\n  <thead>\n    <tr style=\"text-align: right;\">\n      <th></th>\n      <th>image_name</th>\n      <th>comment_number</th>\n      <th>comment</th>\n    </tr>\n  </thead>\n  <tbody>\n    <tr>\n      <th>0</th>\n      <td>1000092795.jpg</td>\n      <td>0</td>\n      <td>two young guys with shaggy hair look at their ...</td>\n    </tr>\n    <tr>\n      <th>1</th>\n      <td>1000092795.jpg</td>\n      <td>1</td>\n      <td>two young white males are outside near many bu...</td>\n    </tr>\n    <tr>\n      <th>2</th>\n      <td>1000092795.jpg</td>\n      <td>2</td>\n      <td>two men in green shirts are standing in yard</td>\n    </tr>\n    <tr>\n      <th>3</th>\n      <td>1000092795.jpg</td>\n      <td>3</td>\n      <td>man in blue shirt standing in garden</td>\n    </tr>\n    <tr>\n      <th>4</th>\n      <td>1000092795.jpg</td>\n      <td>4</td>\n      <td>two friends enjoy time spent together</td>\n    </tr>\n    <tr>\n      <th>5</th>\n      <td>10002456.jpg</td>\n      <td>0</td>\n      <td>several men in hard hats are operating giant p...</td>\n    </tr>\n    <tr>\n      <th>6</th>\n      <td>10002456.jpg</td>\n      <td>1</td>\n      <td>workers look down from up above on piece of eq...</td>\n    </tr>\n    <tr>\n      <th>7</th>\n      <td>10002456.jpg</td>\n      <td>2</td>\n      <td>two men working on machine wearing hard hats</td>\n    </tr>\n    <tr>\n      <th>8</th>\n      <td>10002456.jpg</td>\n      <td>3</td>\n      <td>four men on top of tall structure</td>\n    </tr>\n    <tr>\n      <th>9</th>\n      <td>10002456.jpg</td>\n      <td>4</td>\n      <td>three men on large rig</td>\n    </tr>\n  </tbody>\n</table>\n</div>"
     },
     "execution_count": 50,
     "metadata": {},
     "output_type": "execute_result"
    }
   ],
   "source": [
    "idxs_to_delete = clean_text(df) # сохраним индексы с битыми описаниями в переменную\n",
    "df.head(10) # выведем первые 10 строк из датасета"
   ],
   "metadata": {
    "collapsed": false,
    "pycharm": {
     "name": "#%%\n"
    }
   }
  },
  {
   "cell_type": "markdown",
   "source": [
    "### Удалим битые описание изображений\n",
    "Например, в данном датасете были места, где не хватало разделителя | и описание изображения было\n",
    "пустым. Будем считать что для таких изображение недостаточно описаний для обучения, а поэтому это\n",
    "изображение надо исключить из рассмотрения"
   ],
   "metadata": {
    "collapsed": false,
    "pycharm": {
     "name": "#%% md\n"
    }
   }
  },
  {
   "cell_type": "code",
   "execution_count": 55,
   "outputs": [
    {
     "name": "stdout",
     "output_type": "stream",
     "text": [
      "1\n",
      "['2199200615.jpg']\n"
     ]
    }
   ],
   "source": [
    "# проверим какова длина массива с битыми строками\n",
    "print(len(idxs_to_delete))\n",
    "\n",
    "# возьмем все строки для удаления\n",
    "df_to_delete = df.loc[idxs_to_delete, :]\n",
    "# возьмем уникальное имя изображения, т.к. будем удалять все описания для этих изображений\n",
    "images_to_delete = df_to_delete[\"image_name\"].unique()\n",
    "# распечатаем имена изображений для удаления\n",
    "print(images_to_delete)\n",
    "\n",
    "# удалим все строки с этим изображением\n",
    "df = df[~df.image_name.isin(images_to_delete)]\n",
    "\n",
    "# Сохраним датафрейм в файл\n",
    "path_prepared_captions = dataset_path + \"/clean_results_en.csv\"\n",
    "df.to_csv(path_prepared_captions, sep='|', encoding='utf-8', index=False)"
   ],
   "metadata": {
    "collapsed": false,
    "pycharm": {
     "name": "#%%\n"
    }
   }
  }
 ],
 "metadata": {
  "kernelspec": {
   "display_name": "Python 3",
   "language": "python",
   "name": "python3"
  },
  "language_info": {
   "codemirror_mode": {
    "name": "ipython",
    "version": 2
   },
   "file_extension": ".py",
   "mimetype": "text/x-python",
   "name": "python",
   "nbconvert_exporter": "python",
   "pygments_lexer": "ipython2",
   "version": "2.7.6"
  }
 },
 "nbformat": 4,
 "nbformat_minor": 0
}